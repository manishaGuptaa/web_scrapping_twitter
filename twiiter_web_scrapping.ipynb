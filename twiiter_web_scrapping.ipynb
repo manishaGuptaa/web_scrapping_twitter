{
 "cells": [
  {
   "cell_type": "code",
   "execution_count": 1,
   "id": "4293b9ba",
   "metadata": {},
   "outputs": [],
   "source": [
    "# pip install selenium"
   ]
  },
  {
   "cell_type": "code",
   "execution_count": 2,
   "id": "114457c5",
   "metadata": {},
   "outputs": [],
   "source": [
    "# pip install webdriver_manager"
   ]
  },
  {
   "cell_type": "code",
   "execution_count": 3,
   "id": "4b77d157",
   "metadata": {},
   "outputs": [],
   "source": [
    "from selenium import webdriver\n",
    "from selenium.webdriver.chrome.service import Service\n",
    "from webdriver_manager.chrome import ChromeDriverManager\n",
    "from selenium.webdriver.common.by import By\n",
    "from selenium.webdriver.support.ui import WebDriverWait\n",
    "from selenium.webdriver.support import expected_conditions as ec\n",
    "from selenium.webdriver.common.keys import Keys\n"
   ]
  },
  {
   "cell_type": "code",
   "execution_count": 4,
   "id": "7b6bae2a",
   "metadata": {},
   "outputs": [
    {
     "name": "stderr",
     "output_type": "stream",
     "text": [
      "\n",
      "\n",
      "====== WebDriver manager ======\n",
      "Current google-chrome version is 101.0.4951\n",
      "Get LATEST chromedriver version for 101.0.4951 google-chrome\n",
      "Trying to download new driver from https://chromedriver.storage.googleapis.com/101.0.4951.41/chromedriver_win32.zip\n",
      "Driver has been saved in cache [C:\\Users\\dell\\.wdm\\drivers\\chromedriver\\win32\\101.0.4951.41]\n"
     ]
    }
   ],
   "source": [
    "s=Service(ChromeDriverManager().install())\n",
    "driver = webdriver.Chrome(service=s)\n",
    "driver.maximize_window()\n",
    "url = \"https://twitter.com/login\"\n",
    "driver.get(url)"
   ]
  },
  {
   "cell_type": "code",
   "execution_count": 5,
   "id": "050e0afc",
   "metadata": {},
   "outputs": [
    {
     "name": "stdout",
     "output_type": "stream",
     "text": [
      "Enter the username manisha08062000\n"
     ]
    }
   ],
   "source": [
    "username=input(\"Enter the username \")\n",
    "wait = WebDriverWait(driver, 10)\n",
    "username_input = wait.until(ec.visibility_of_element_located((By.NAME, \"text\")))\n",
    "username_input.send_keys(username)"
   ]
  },
  {
   "cell_type": "code",
   "execution_count": 6,
   "id": "435cff78",
   "metadata": {},
   "outputs": [],
   "source": [
    "next_button = wait.until(ec.visibility_of_element_located((By.XPATH, \"//*[@id='layers']/div/div/div/div/div/div/div[2]/div[2]/div/div/div[2]/div[2]/div[1]/div/div/div[6]/div\")))\n",
    "next_button.click()"
   ]
  },
  {
   "cell_type": "code",
   "execution_count": 7,
   "id": "a3f772f8",
   "metadata": {},
   "outputs": [
    {
     "name": "stdout",
     "output_type": "stream",
     "text": [
      "Enter the password mannu123\n"
     ]
    }
   ],
   "source": [
    "password=input(\"Enter the password \")\n",
    "password_input = wait.until(ec.visibility_of_element_located((By.NAME, \"password\")))\n",
    "password_input.send_keys(password)"
   ]
  },
  {
   "cell_type": "code",
   "execution_count": 8,
   "id": "3b170ea1",
   "metadata": {},
   "outputs": [],
   "source": [
    "login_button = wait.until(ec.visibility_of_element_located((By.XPATH, \"//*[@id='layers']/div/div/div/div/div/div/div[2]/div[2]/div/div/div[2]/div[2]/div[2]/div/div[1]/div\")))\n",
    "login_button.click()"
   ]
  },
  {
   "cell_type": "code",
   "execution_count": 9,
   "id": "44b63f17",
   "metadata": {},
   "outputs": [
    {
     "name": "stdout",
     "output_type": "stream",
     "text": [
      "Enter the urlhttps://twitter.com/sachin_rt\n"
     ]
    }
   ],
   "source": [
    "url =input(\"Enter the url\")\n",
    "# url=\"https://twitter.com/sachin_rt\"\n",
    "driver.get(url)"
   ]
  },
  {
   "cell_type": "code",
   "execution_count": 10,
   "id": "0151a8dd",
   "metadata": {
    "scrolled": true
   },
   "outputs": [],
   "source": [
    "followings=driver.find_elements(by=By.XPATH, value=\"//*[@id='react-root']/div/div/div[2]/main/div/div/div/div/div/div[2]/div/div/div/div/div[5]/div[1]/a/span[1]/span\")\n",
    "for val in followings:\n",
    "    following=val.text"
   ]
  },
  {
   "cell_type": "code",
   "execution_count": 11,
   "id": "55e478a4",
   "metadata": {},
   "outputs": [],
   "source": [
    "followers=driver.find_elements(by=By.XPATH, value=\"//*[@id='react-root']/div/div/div[2]/main/div/div/div/div/div/div[2]/div/div/div/div/div[5]/div[2]/a/span[1]/span\")\n",
    "for val in followers:\n",
    "    follower=val.text"
   ]
  },
  {
   "cell_type": "code",
   "execution_count": 12,
   "id": "14e83215",
   "metadata": {},
   "outputs": [],
   "source": [
    "bio=driver.find_elements(by=By.XPATH, value=\"//*[@id='react-root']/div/div/div[2]/main/div/div/div/div/div/div[2]/div/div/div/div/div[3]/div/div/span\")\n",
    "for val in bio:\n",
    "    bioo=val.text"
   ]
  },
  {
   "cell_type": "code",
   "execution_count": 13,
   "id": "7377bd2e",
   "metadata": {},
   "outputs": [],
   "source": [
    "userId=driver.find_elements(by=By.XPATH,value=\"//*[@id='react-root']/div/div/div[2]/main/div/div/div/div[1]/div/div[2]/div/div/div/a/div/div[2]/div/div\")\n",
    "for val in userId:\n",
    "    id=val.get_attribute('style')[61:70]\n",
    "    "
   ]
  },
  {
   "cell_type": "code",
   "execution_count": 14,
   "id": "b1e59c3b",
   "metadata": {},
   "outputs": [],
   "source": [
    "likes = wait.until(ec.visibility_of_element_located((By.XPATH, \"//*[@id='react-root']/div/div/div[2]/main/div/div/div/div/div/div[2]/div/div/nav/div/div[2]/div/div[4]/a/div\")))\n",
    "likes.click()                                                    "
   ]
  },
  {
   "cell_type": "code",
   "execution_count": 16,
   "id": "66d50bca",
   "metadata": {},
   "outputs": [],
   "source": [
    "like=driver.find_elements(by=By.XPATH,value=\"//*[@id='react-root']/div/div/div[2]/main/div/div/div/div/div/div[1]/div[1]/div/div/div/div/div[2]/div/div\")\n",
    "for val in like:\n",
    "    k=val.text.find(\" \")\n",
    "    count=val.text[0:k]\n"
   ]
  },
  {
   "cell_type": "code",
   "execution_count": 17,
   "id": "ede8c5ec",
   "metadata": {},
   "outputs": [
    {
     "name": "stdout",
     "output_type": "stream",
     "text": [
      "'biography':Proud Indian ,\n",
      "'followers_count': 37.2M,\n",
      "'following_count': 81,\n",
      "'likes_count':270,\n",
      "'user_id': 135421739\n"
     ]
    }
   ],
   "source": [
    "print(\"\"\"'biography':{} ,\n",
    "'followers_count': {},\n",
    "'following_count': {},\n",
    "'likes_count':{},\n",
    "'user_id': {}\"\"\".format(bioo,follower,following,count,id))"
   ]
  },
  {
   "cell_type": "code",
   "execution_count": null,
   "id": "3237e186",
   "metadata": {},
   "outputs": [],
   "source": []
  },
  {
   "cell_type": "code",
   "execution_count": null,
   "id": "7117cae7",
   "metadata": {},
   "outputs": [],
   "source": []
  }
 ],
 "metadata": {
  "kernelspec": {
   "display_name": "Python 3 (ipykernel)",
   "language": "python",
   "name": "python3"
  },
  "language_info": {
   "codemirror_mode": {
    "name": "ipython",
    "version": 3
   },
   "file_extension": ".py",
   "mimetype": "text/x-python",
   "name": "python",
   "nbconvert_exporter": "python",
   "pygments_lexer": "ipython3",
   "version": "3.8.8"
  }
 },
 "nbformat": 4,
 "nbformat_minor": 5
}
